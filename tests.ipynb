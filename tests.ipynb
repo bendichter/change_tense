{
 "cells": [
  {
   "cell_type": "code",
   "execution_count": 1,
   "metadata": {
    "collapsed": true
   },
   "outputs": [],
   "source": [
    "from spacy.en import English\n",
    "from spacy.symbols import nsubj, VERB\n",
    "from pattern.en import conjugate, PAST, PRESENT, FUTURE, tenses, SINGULAR, PLURAL\n",
    "from itertools import tee\n",
    "import string\n",
    "from HTMLParser import HTMLParser\n",
    "from change_tense.change_tense import change_tense, get_subjects_of_verb\n",
    "from change_tense.utils import pairwise"
   ]
  },
  {
   "cell_type": "code",
   "execution_count": 2,
   "metadata": {
    "collapsed": true
   },
   "outputs": [],
   "source": [
    "npl = English()"
   ]
  },
  {
   "cell_type": "code",
   "execution_count": 5,
   "metadata": {
    "collapsed": false
   },
   "outputs": [
    {
     "name": "stdout",
     "output_type": "stream",
     "text": [
      "[(u'The', u'DT', u'det', [rooms, filled]), (u'rooms', u'NNS', u'nsubjpass', [filled]), (u'were', u'VBD', u'auxpass', [filled]), (u'filled', u'VBN', u'ROOT', []), (u'with', u'IN', u'prep', [filled]), (u'cupboards', u'NNS', u'pobj', [with, filled]), (u'and', u'CC', u'cc', [cupboards, with, filled]), (u'book', u'NN', u'compound', [shelves, cupboards, with, filled]), (u'-', u'HYPH', u'punct', [shelves, cupboards, with, filled]), (u'shelves', u'NNS', u'conj', [cupboards, with, filled]), (u'.', u'.', u'punct', [filled])]\n"
     ]
    },
    {
     "data": {
      "text/plain": [
       "u'The rooms are fill with cupboards and book- shelves.'"
      ]
     },
     "execution_count": 5,
     "metadata": {},
     "output_type": "execute_result"
    }
   ],
   "source": [
    "text = u'The rooms were filled with cupboards and book-shelves.'\n",
    "doc = npl(text)\n",
    "print([(x.text, x.tag_, x.dep_, list(x.ancestors)) for x in list(doc.sents)[0]])\n",
    "change_tense(text,'present')"
   ]
  },
  {
   "cell_type": "code",
   "execution_count": 28,
   "metadata": {
    "collapsed": false
   },
   "outputs": [
    {
     "data": {
      "text/plain": [
       "u'ROOT'"
      ]
     },
     "execution_count": 28,
     "metadata": {},
     "output_type": "execute_result"
    }
   ],
   "source": [
    "text = u'The rooms were filled with cupboards and book-shelves.'\n",
    "doc = npl(text)\n",
    "tok = [x for x in list(doc.sents)[0] if x.text == 'filled'][0]\n",
    "tok.dep_"
   ]
  },
  {
   "cell_type": "code",
   "execution_count": 27,
   "metadata": {
    "collapsed": false
   },
   "outputs": [
    {
     "data": {
      "text/plain": [
       "[rooms]"
      ]
     },
     "execution_count": 27,
     "metadata": {},
     "output_type": "execute_result"
    }
   ],
   "source": [
    "get_subjects_of_verb(tok)"
   ]
  },
  {
   "cell_type": "code",
   "execution_count": 7,
   "metadata": {
    "collapsed": false
   },
   "outputs": [
    {
     "name": "stdout",
     "output_type": "stream",
     "text": [
      "[(u'I', u'PRP', u'nsubj'), (u'have', u'VBP', u'aux'), (u'gone', u'VBN', u'ROOT'), (u'to', u'IN', u'prep'), (u'the', u'DT', u'det'), (u'store', u'NN', u'pobj'), (u'.', u'.', u'punct')]\n"
     ]
    },
    {
     "data": {
      "text/plain": [
       "u'I had went to the store.'"
      ]
     },
     "execution_count": 7,
     "metadata": {},
     "output_type": "execute_result"
    }
   ],
   "source": [
    "text = u'I have gone to the store.'\n",
    "doc = npl(text)\n",
    "print([(x.text, x.tag_, x.dep_) for x in list(doc.sents)[0]])\n",
    "change_tense(text,'past')"
   ]
  },
  {
   "cell_type": "code",
   "execution_count": 12,
   "metadata": {
    "collapsed": false
   },
   "outputs": [
    {
     "name": "stdout",
     "output_type": "stream",
     "text": [
      "[(u'I', u'PRP'), (u'will', u'MD'), (u'have', u'VB'), (u'lived', u'VBN'), (u'.', u'.')]\n"
     ]
    },
    {
     "data": {
      "text/plain": [
       "u'I will live.'"
      ]
     },
     "execution_count": 12,
     "metadata": {},
     "output_type": "execute_result"
    }
   ],
   "source": [
    "text = u'I will have lived.'\n",
    "doc = npl(text)\n",
    "print([(x.text, x.tag_) for x in list(doc.sents)[0]])\n",
    "change_tense(text,'future')"
   ]
  },
  {
   "cell_type": "code",
   "execution_count": 9,
   "metadata": {
    "collapsed": false
   },
   "outputs": [
    {
     "name": "stdout",
     "output_type": "stream",
     "text": [
      "[(u'I', u'PRP'), (u'will', u'MD'), (u'have', u'VB'), (u'five', u'CD'), (u'cookies', u'NNS'), (u'.', u'.')]\n"
     ]
    },
    {
     "data": {
      "text/plain": [
       "u'I will five cookies.'"
      ]
     },
     "execution_count": 9,
     "metadata": {},
     "output_type": "execute_result"
    }
   ],
   "source": [
    "text = u'I will have five cookies.'\n",
    "doc = npl(text)\n",
    "print([(x.text, x.tag_) for x in list(doc.sents)[0]])\n",
    "change_tense(text,'future')"
   ]
  },
  {
   "cell_type": "code",
   "execution_count": 13,
   "metadata": {
    "collapsed": false
   },
   "outputs": [
    {
     "data": {
      "text/plain": [
       "u'did'"
      ]
     },
     "execution_count": 13,
     "metadata": {},
     "output_type": "execute_result"
    }
   ],
   "source": [
    "a = conjugate('do',tense=PAST, person=3, number=SINGULAR)\n",
    "a"
   ]
  },
  {
   "cell_type": "code",
   "execution_count": 5,
   "metadata": {
    "collapsed": false
   },
   "outputs": [],
   "source": [
    "doc = npl(u'The will says otherwise.')"
   ]
  },
  {
   "cell_type": "code",
   "execution_count": 4,
   "metadata": {
    "collapsed": false
   },
   "outputs": [
    {
     "data": {
      "text/plain": [
       "u'The will say otherwise.'"
      ]
     },
     "execution_count": 4,
     "metadata": {},
     "output_type": "execute_result"
    }
   ],
   "source": [
    "change_tense('The will says otherwise.','future')"
   ]
  },
  {
   "cell_type": "code",
   "execution_count": 6,
   "metadata": {
    "collapsed": false
   },
   "outputs": [
    {
     "data": {
      "text/plain": [
       "[(u'The', u'DT'),\n",
       " (u'did', u'VBD'),\n",
       " (u'say', u'VB'),\n",
       " (u'otherwise', u'RB'),\n",
       " (u'.', u'.')]"
      ]
     },
     "execution_count": 6,
     "metadata": {},
     "output_type": "execute_result"
    }
   ],
   "source": []
  },
  {
   "cell_type": "code",
   "execution_count": 8,
   "metadata": {
    "collapsed": false
   },
   "outputs": [],
   "source": []
  },
  {
   "cell_type": "code",
   "execution_count": 16,
   "metadata": {
    "collapsed": false
   },
   "outputs": [
    {
     "data": {
      "text/plain": [
       "<spacy.vocab.Vocab at 0x1190d0830>"
      ]
     },
     "execution_count": 16,
     "metadata": {},
     "output_type": "execute_result"
    }
   ],
   "source": [
    "tok.vocab"
   ]
  },
  {
   "cell_type": "code",
   "execution_count": null,
   "metadata": {
    "collapsed": true
   },
   "outputs": [],
   "source": []
  }
 ],
 "metadata": {
  "kernelspec": {
   "display_name": "Python 2",
   "language": "python",
   "name": "python2"
  },
  "language_info": {
   "codemirror_mode": {
    "name": "ipython",
    "version": 2
   },
   "file_extension": ".py",
   "mimetype": "text/x-python",
   "name": "python",
   "nbconvert_exporter": "python",
   "pygments_lexer": "ipython2",
   "version": "2.7.13"
  }
 },
 "nbformat": 4,
 "nbformat_minor": 2
}
